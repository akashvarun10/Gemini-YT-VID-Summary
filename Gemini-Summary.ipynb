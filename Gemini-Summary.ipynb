{
 "cells": [
  {
   "cell_type": "code",
   "execution_count": 2,
   "metadata": {},
   "outputs": [
    {
     "data": {
      "text/plain": [
       "True"
      ]
     },
     "execution_count": 2,
     "metadata": {},
     "output_type": "execute_result"
    }
   ],
   "source": [
    "from dotenv import load_dotenv\n",
    "import os\n",
    "import google.generativeai as genai\n",
    "from youtube_transcript_api import YouTubeTranscriptApi\n",
    "from youtube_transcript_api._errors import TranscriptsDisabled\n",
    "\n",
    "load_dotenv()  # Load all the environment variables"
   ]
  },
  {
   "cell_type": "code",
   "execution_count": 3,
   "metadata": {},
   "outputs": [],
   "source": [
    "genai.configure(api_key=os.getenv(\"GOOGLE_API_KEY\"))"
   ]
  },
  {
   "cell_type": "code",
   "execution_count": 4,
   "metadata": {},
   "outputs": [],
   "source": [
    "prompt = \"\"\"You are YouTube video summarizer. You will be taking the transcript text\n",
    "and summarizing the entire video, providing the important summary in points\n",
    "within 250 words. Please provide the summary of the text given here:  \"\"\""
   ]
  },
  {
   "cell_type": "code",
   "execution_count": 5,
   "metadata": {},
   "outputs": [],
   "source": [
    "## Getting the transcript data from YouTube videos\n",
    "def extract_transcript_details(youtube_video_url):\n",
    "    try:\n",
    "        video_id = youtube_video_url.split(\"=\")[1]\n",
    "        transcript_text = YouTubeTranscriptApi.get_transcript(video_id)\n",
    "\n",
    "        transcript = \"\"\n",
    "        for i in transcript_text:\n",
    "            transcript += \" \" + i[\"text\"]\n",
    "\n",
    "        return transcript\n",
    "\n",
    "    except TranscriptsDisabled:\n",
    "        print(\"Transcripts are disabled for this video. Please enable subtitles on the video.\")\n",
    "        return None\n",
    "    except Exception as e:\n",
    "        print(f\"An error occurred: {e}\")\n",
    "        return None"
   ]
  },
  {
   "cell_type": "code",
   "execution_count": 8,
   "metadata": {},
   "outputs": [],
   "source": [
    "## Getting the summary based on Prompt from Google Gemini Pro\n",
    "def generate_gemini_content(transcript_text, prompt):\n",
    "    model = genai.GenerativeModel(\"gemini-pro\")\n",
    "    response = model.generate_content(prompt + transcript_text)\n",
    "    return response.text"
   ]
  },
  {
   "cell_type": "code",
   "execution_count": 10,
   "metadata": {},
   "outputs": [
    {
     "name": "stdout",
     "output_type": "stream",
     "text": [
      "Detailed Notes:\n",
      "**Summary of OpenGGPTS Platform:**\n",
      "\n",
      "**Front End:**\n",
      "\n",
      "* Three types of bots: Assistant, Retrieval Over Arbitrarily Requested Files (RAG), and Chatbot.\n",
      "* Features include creating bots, setting instructions, uploading files, and providing feedback.\n",
      "* Allows for sharing, viewing old conversations, and selecting saved bots.\n",
      "\n",
      "**Back End Architecture:**\n",
      "\n",
      "* Built on LGraph, a framework for building cyclical agentic frameworks.\n",
      "* Agent types define the architectures of different bots:\n",
      "    * OpenAI: Calls tools using a message graph and persists messages for later use.\n",
      "    * Google: Supports function calling for Google models.\n",
      "    * XML: Designed for anthropic models.\n",
      "* Retrieval bot:\n",
      "    * Always performs retrieval steps.\n",
      "    * Uses a search prompt template to generate search queries and formats responses.\n",
      "* Configurable fields and alternatives enable end-user customization of bot parameters and architectures.\n",
      "* Ingestion pipeline splits and adds documents to a vector store for retrieval.\n",
      "* Integration with LangSmith allows for debugging and tracking of bot interactions.\n",
      "\n",
      "**Advantages:**\n",
      "\n",
      "* Open source and customizable, allowing users to build their own GPT stores or internal platforms.\n",
      "* Streamlines use of language models by providing user-friendly interfaces.\n",
      "* Enables creation of bots with varying capabilities, including arbitrary tool access and retrieval capabilities.\n"
     ]
    }
   ],
   "source": [
    "\n",
    "# Example of using the functions:\n",
    "youtube_link = input(\"Enter YouTube Video Link:\")\n",
    "video_id = youtube_link.split(\"=\")[1]\n",
    "\n",
    "transcript_text = extract_transcript_details(youtube_link)\n",
    "\n",
    "if transcript_text:\n",
    "    summary = generate_gemini_content(transcript_text, prompt)\n",
    "    print(\"Detailed Notes:\")\n",
    "    print(summary)"
   ]
  },
  {
   "cell_type": "code",
   "execution_count": null,
   "metadata": {},
   "outputs": [],
   "source": []
  },
  {
   "cell_type": "code",
   "execution_count": null,
   "metadata": {},
   "outputs": [],
   "source": []
  }
 ],
 "metadata": {
  "kernelspec": {
   "display_name": "ev",
   "language": "python",
   "name": "python3"
  },
  "language_info": {
   "codemirror_mode": {
    "name": "ipython",
    "version": 3
   },
   "file_extension": ".py",
   "mimetype": "text/x-python",
   "name": "python",
   "nbconvert_exporter": "python",
   "pygments_lexer": "ipython3",
   "version": "3.9.10"
  }
 },
 "nbformat": 4,
 "nbformat_minor": 2
}
